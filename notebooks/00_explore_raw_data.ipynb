{
 "cells": [
  {
   "cell_type": "code",
   "execution_count": 1,
   "id": "25cb6dc0",
   "metadata": {},
   "outputs": [
    {
     "ename": "TypeError",
     "evalue": "required field \"type_ignores\" missing from Module",
     "output_type": "error",
     "traceback": [
      "\u001b[0;31m---------------------------------------------------------------------------\u001b[0m",
      "\u001b[0;31mTypeError\u001b[0m                                 Traceback (most recent call last)",
      "\u001b[0;32m/opt/anaconda3/envs/hal/lib/python3.9/codeop.py\u001b[0m in \u001b[0;36m__call__\u001b[0;34m(self, source, filename, symbol)\u001b[0m\n\u001b[1;32m    141\u001b[0m \u001b[0;34m\u001b[0m\u001b[0m\n\u001b[1;32m    142\u001b[0m     \u001b[0;32mdef\u001b[0m \u001b[0m__call__\u001b[0m\u001b[0;34m(\u001b[0m\u001b[0mself\u001b[0m\u001b[0;34m,\u001b[0m \u001b[0msource\u001b[0m\u001b[0;34m,\u001b[0m \u001b[0mfilename\u001b[0m\u001b[0;34m,\u001b[0m \u001b[0msymbol\u001b[0m\u001b[0;34m)\u001b[0m\u001b[0;34m:\u001b[0m\u001b[0;34m\u001b[0m\u001b[0;34m\u001b[0m\u001b[0m\n\u001b[0;32m--> 143\u001b[0;31m         \u001b[0mcodeob\u001b[0m \u001b[0;34m=\u001b[0m \u001b[0mcompile\u001b[0m\u001b[0;34m(\u001b[0m\u001b[0msource\u001b[0m\u001b[0;34m,\u001b[0m \u001b[0mfilename\u001b[0m\u001b[0;34m,\u001b[0m \u001b[0msymbol\u001b[0m\u001b[0;34m,\u001b[0m \u001b[0mself\u001b[0m\u001b[0;34m.\u001b[0m\u001b[0mflags\u001b[0m\u001b[0;34m,\u001b[0m \u001b[0;32mTrue\u001b[0m\u001b[0;34m)\u001b[0m\u001b[0;34m\u001b[0m\u001b[0;34m\u001b[0m\u001b[0m\n\u001b[0m\u001b[1;32m    144\u001b[0m         \u001b[0;32mfor\u001b[0m \u001b[0mfeature\u001b[0m \u001b[0;32min\u001b[0m \u001b[0m_features\u001b[0m\u001b[0;34m:\u001b[0m\u001b[0;34m\u001b[0m\u001b[0;34m\u001b[0m\u001b[0m\n\u001b[1;32m    145\u001b[0m             \u001b[0;32mif\u001b[0m \u001b[0mcodeob\u001b[0m\u001b[0;34m.\u001b[0m\u001b[0mco_flags\u001b[0m \u001b[0;34m&\u001b[0m \u001b[0mfeature\u001b[0m\u001b[0;34m.\u001b[0m\u001b[0mcompiler_flag\u001b[0m\u001b[0;34m:\u001b[0m\u001b[0;34m\u001b[0m\u001b[0;34m\u001b[0m\u001b[0m\n",
      "\u001b[0;31mTypeError\u001b[0m: required field \"type_ignores\" missing from Module"
     ]
    }
   ],
   "source": [
    "# Cell 1: 导入库和配置\n",
    "import scipy.io\n",
    "import numpy as np\n",
    "import pandas as pd\n",
    "import matplotlib.pyplot as plt\n",
    "import os\n",
    "import sys\n",
    "\n",
    "# 将src目录添加到Python路径，以便导入config\n",
    "sys.path.append(os.path.abspath(os.path.join('..', 'src')))\n",
    "from config import ULTRASONIC_PATH, SONIC_PATH, ORIENTATION_PATH\n",
    "\n",
    "# Cell 2: 定义一个辅助函数来探查.mat文件内容\n",
    "def explore_mat_file(file_path):\n",
    "    \"\"\"加载并打印.mat文件的顶层结构和数据信息\"\"\"\n",
    "    print(f\"--- Exploring file: {os.path.basename(file_path)} ---\")\n",
    "    try:\n",
    "        mat_data = scipy.io.loadmat(file_path, squeeze_me=True)\n",
    "        print(\"Keys:\", mat_data.keys())\n",
    "        \n",
    "        for key, value in mat_data.items():\n",
    "            if key.startswith('__'):\n",
    "                continue\n",
    "            print(f\"\\n> Content of '{key}':\")\n",
    "            if isinstance(value, np.ndarray) and value.dtype.names:\n",
    "                # 这是一个结构体数组\n",
    "                print(f\"  Type: Struct Array\")\n",
    "                print(f\"  Fields: {value.dtype.names}\")\n",
    "                # 打印结构体中每个字段的形状\n",
    "                for field in value.dtype.names:\n",
    "                    # 访问结构体中的字段\n",
    "                    field_data = value[field]\n",
    "                    print(f\"    - Field '{field}' shape: {field_data.shape}, dtype: {field_data.dtype}\")\n",
    "            elif isinstance(value, np.ndarray):\n",
    "                 print(f\"  Type: Array\")\n",
    "                 print(f\"  Shape: {value.shape}, dtype: {value.dtype}\")\n",
    "            else:\n",
    "                 print(f\"  Type: {type(value)}\")\n",
    "\n",
    "    except Exception as e:\n",
    "        print(f\"  Error loading or exploring file: {e}\")\n",
    "    print(\"-\" * 50)\n",
    "\n",
    "# Cell 3: 探查所有原始数据文件\n",
    "explore_mat_file(ULTRASONIC_PATH)\n",
    "explore_mat_file(SONIC_PATH)\n",
    "explore_mat_file(ORIENTATION_PATH)\n",
    "\n",
    "# Cell 4: 加载并可视化一个样本波形\n",
    "print(\"\\n--- Visualizing a sample sonic waveform ---\")\n",
    "sonic_mat = scipy.io.loadmat(SONIC_PATH, squeeze_me=True)\n",
    "# 根据策略文档，数据在 'XSILMR03' 结构体中\n",
    "sonic_struct = sonic_mat['XSILMR03']\n",
    "waveforms_A = sonic_struct['WaveRng03SideA'] # A方位接收器全波形\n",
    "depths = sonic_struct['Depth']\n",
    "\n",
    "# 绘制第一个深度点的波形\n",
    "sample_waveform = waveforms_A[:, 0]\n",
    "time_axis_us = np.arange(sample_waveform.shape[0]) * 10 # 采样间隔10us\n",
    "\n",
    "plt.figure(figsize=(10, 5))\n",
    "plt.plot(time_axis_us, sample_waveform)\n",
    "plt.title('Sample Raw Waveform (Receiver A, First Depth)')\n",
    "plt.xlabel('Time (us)')\n",
    "plt.ylabel('Amplitude')\n",
    "plt.grid(True)\n",
    "plt.show()\n",
    "\n",
    "print(f\"Sonic data shape (Receiver A): {waveforms_A.shape}\")\n",
    "print(f\"Sonic depth shape: {depths.shape}\")"
   ]
  }
 ],
 "metadata": {
  "kernelspec": {
   "display_name": "hal",
   "language": "python",
   "name": "python3"
  },
  "language_info": {
   "codemirror_mode": {
    "name": "ipython",
    "version": 3
   },
   "file_extension": ".py",
   "mimetype": "text/x-python",
   "name": "python",
   "nbconvert_exporter": "python",
   "pygments_lexer": "ipython3",
   "version": "3.9.21"
  }
 },
 "nbformat": 4,
 "nbformat_minor": 5
}
